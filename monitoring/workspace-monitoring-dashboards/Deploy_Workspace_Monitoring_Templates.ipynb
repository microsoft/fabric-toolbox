{
 "cells": [
  {
   "cell_type": "markdown",
   "id": "907c6c4a-0fab-40b2-bba0-31e72bacb04a",
   "metadata": {
    "microsoft": {
     "language": "python",
     "language_group": "jupyter_python"
    },
    "nteract": {
     "transient": {
      "deleting": false
     }
    }
   },
   "source": [
    "### Deploy Workspace Monitoring Templates via Notebook\n",
    "\n",
    "Run this notebook in the workspace, where the Workspace Monitoring feature has been already enabled.\n",
    "\n",
    "The following items will be deployed:\n",
    "- PBI Report + Semantic model\n",
    "- RTI-Dashboard\n",
    "\n",
    "Set the credential on the `Fabric Workspace Monitoring SM.SemanticModel` after deployment"
   ]
  },
  {
   "cell_type": "markdown",
   "id": "b1aa3f60-f19a-4227-83c1-f5fe3e991417",
   "metadata": {
    "microsoft": {
     "language": "python",
     "language_group": "jupyter_python"
    },
    "nteract": {
     "transient": {
      "deleting": false
     }
    }
   },
   "source": [
    "### Deployment logic"
   ]
  },
  {
   "cell_type": "code",
   "execution_count": null,
   "id": "fb4dc1a8-1cfe-4d24-b0e7-07ad7a5edc4d",
   "metadata": {
    "jupyter": {
     "outputs_hidden": true
    },
    "microsoft": {
     "language": "python",
     "language_group": "jupyter_python"
    }
   },
   "outputs": [],
   "source": [
    "%pip install ms-fabric-cli --quiet"
   ]
  },
  {
   "cell_type": "code",
   "execution_count": 15,
   "id": "2fbbf599-1d62-4167-9613-94746bc0e3ce",
   "metadata": {
    "microsoft": {
     "language": "python",
     "language_group": "jupyter_python"
    }
   },
   "outputs": [
    {
     "data": {
      "application/vnd.jupyter.statement-meta+json": {
       "execution_finish_time": "2025-09-05T14:34:15.0412191Z",
       "execution_start_time": "2025-09-05T14:34:14.7065999Z",
       "normalized_state": "finished",
       "parent_msg_id": "7eac5d5f-df65-4f3c-a86b-7c675c84e44c",
       "queued_time": "2025-09-05T14:34:11.7814339Z",
       "session_id": "95a4f8ba-502a-400d-91b5-ba0b71be215e",
       "session_start_time": null
      }
     },
     "metadata": {},
     "output_type": "display_data"
    }
   ],
   "source": [
    "import subprocess\n",
    "import os\n",
    "import json\n",
    "from zipfile import ZipFile \n",
    "import shutil\n",
    "import re\n",
    "import requests\n",
    "import zipfile\n",
    "from io import BytesIO\n",
    "import yaml\n",
    "import sempy.fabric as fabric"
   ]
  },
  {
   "cell_type": "code",
   "execution_count": 16,
   "id": "24298d05-1beb-4115-a39b-65c16b4d7392",
   "metadata": {
    "microsoft": {
     "language": "python",
     "language_group": "jupyter_python"
    }
   },
   "outputs": [
    {
     "data": {
      "application/vnd.jupyter.statement-meta+json": {
       "execution_finish_time": "2025-09-05T14:34:23.9158292Z",
       "execution_start_time": "2025-09-05T14:34:15.0425046Z",
       "normalized_state": "finished",
       "parent_msg_id": "635c1956-1f98-4098-9e46-6f340c9fcfd9",
       "queued_time": "2025-09-05T14:34:12.1178575Z",
       "session_id": "95a4f8ba-502a-400d-91b5-ba0b71be215e",
       "session_start_time": null
      }
     },
     "metadata": {},
     "output_type": "display_data"
    }
   ],
   "source": [
    "def download_folder_as_zip(repo_owner, repo_name, output_zip, branch=\"main\", folder_to_extract=\"src\",  remove_folder_prefix = \"\"):\n",
    "    # Construct the URL for the GitHub API to download the repository as a zip file\n",
    "    url = f\"https://api.github.com/repos/{repo_owner}/{repo_name}/zipball/{branch}\"\n",
    "    \n",
    "    # Make a request to the GitHub API\n",
    "    response = requests.get(url)\n",
    "    response.raise_for_status()\n",
    "    \n",
    "    # Ensure the directory for the output zip file exists\n",
    "    os.makedirs(os.path.dirname(output_zip), exist_ok=True)\n",
    "    \n",
    "    # Create a zip file in memory\n",
    "    with zipfile.ZipFile(BytesIO(response.content)) as zipf:\n",
    "        with zipfile.ZipFile(output_zip, 'w') as output_zipf:\n",
    "            for file_info in zipf.infolist():\n",
    "                parts = file_info.filename.split('/')\n",
    "                if  re.sub(r'^.*?/', '/', file_info.filename).startswith(folder_to_extract): \n",
    "                    # Extract only the specified folder\n",
    "                    file_data = zipf.read(file_info.filename)\n",
    "                    output_zipf.writestr(('/'.join(parts[1:]).replace(remove_folder_prefix, \"\")), file_data)\n",
    "\n",
    "def uncompress_zip_to_folder(zip_path, extract_to):\n",
    "    # Ensure the directory for extraction exists\n",
    "    os.makedirs(extract_to, exist_ok=True)\n",
    "    \n",
    "    # Uncompress all files from the zip into the specified folder\n",
    "    with zipfile.ZipFile(zip_path, 'r') as zip_ref:\n",
    "        zip_ref.extractall(extract_to)\n",
    "    \n",
    "    # Delete the original zip file\n",
    "    os.remove(zip_path)\n",
    "\n",
    "repo_owner = \"Microsoft\"\n",
    "repo_name = \"fabric-toolbox\"\n",
    "branch = \"FWM-2025.8.2-3\"\n",
    "folder_prefix = \"monitoring/workspace-monitoring-dashboards\"\n",
    "\n",
    "download_folder_as_zip(repo_owner, repo_name, output_zip = \"./builtin/src/src.zip\", branch = branch, folder_to_extract= f\"/{folder_prefix}/src\", remove_folder_prefix = f\"{folder_prefix}/\")"
   ]
  },
  {
   "cell_type": "code",
   "execution_count": 18,
   "id": "09d395cc-5889-4dfc-8766-5b7df52e9f63",
   "metadata": {
    "microsoft": {
     "language": "python",
     "language_group": "jupyter_python"
    }
   },
   "outputs": [
    {
     "data": {
      "application/vnd.jupyter.statement-meta+json": {
       "execution_finish_time": "2025-09-05T14:34:24.6405593Z",
       "execution_start_time": "2025-09-05T14:34:24.2632489Z",
       "normalized_state": "finished",
       "parent_msg_id": "20a4566e-c810-4b4e-accb-93f1a9b6d916",
       "queued_time": "2025-09-05T14:34:12.3016744Z",
       "session_id": "95a4f8ba-502a-400d-91b5-ba0b71be215e",
       "session_start_time": null
      }
     },
     "metadata": {},
     "output_type": "display_data"
    }
   ],
   "source": [
    "# Definition of deployment functions\n",
    "\n",
    "# Set environment parameters for Fabric CLI\n",
    "token = notebookutils.credentials.getToken('pbi')\n",
    "os.environ['FAB_TOKEN'] = token\n",
    "os.environ['FAB_TOKEN_ONELAKE'] = token\n",
    "\n",
    "def run_fab_command( command, capture_output: bool = False, silently_continue: bool = False):\n",
    "    result = subprocess.run([\"fab\", \"-c\", command], capture_output=capture_output, text=True)\n",
    "    if (not(silently_continue) and (result.returncode > 0 or result.stderr)):\n",
    "       raise Exception(f\"Error running fab command. exit_code: '{result.returncode}'; stderr: '{result.stderr}'\")    \n",
    "    if (capture_output): \n",
    "        output = result.stdout.strip()\n",
    "        return output\n",
    "\n",
    "def copy_to_tmp(name):\n",
    "    shutil.rmtree(\"./builtin/tmp\",  ignore_errors=True)\n",
    "    path2zip = \"./builtin/src/src.zip\"\n",
    "    with  ZipFile(path2zip) as archive:\n",
    "        for file in archive.namelist():\n",
    "            if file.startswith(f'src/{name}/'):\n",
    "                archive.extract(file, './builtin/tmp')\n",
    "    return(f\"./builtin/tmp/src/{name}\" )\n"
   ]
  },
  {
   "cell_type": "code",
   "execution_count": 19,
   "id": "a589bbb7-8de2-47a4-94e3-f44938506351",
   "metadata": {
    "microsoft": {
     "language": "python",
     "language_group": "jupyter_python"
    }
   },
   "outputs": [
    {
     "data": {
      "application/vnd.jupyter.statement-meta+json": {
       "execution_finish_time": "2025-09-05T14:34:25.9418083Z",
       "execution_start_time": "2025-09-05T14:34:24.6417383Z",
       "normalized_state": "finished",
       "parent_msg_id": "c48173d1-e390-4157-a91b-a7b5b81f4b0a",
       "queued_time": "2025-09-05T14:34:12.3030922Z",
       "session_id": "95a4f8ba-502a-400d-91b5-ba0b71be215e",
       "session_start_time": null
      }
     },
     "metadata": {},
     "output_type": "display_data"
    },
    {
     "name": "stdout",
     "output_type": "stream",
     "text": [
      "Current workspace: FWM-test-01\n",
      "Current workspace ID: 5f026589-af8e-4b87-8075-ba24f694f420\n"
     ]
    }
   ],
   "source": [
    "# Get current Workspace\n",
    "\n",
    "trg_workspace_id = fabric.get_notebook_workspace_id()\n",
    "res = run_fab_command(f\"api -X get workspaces/{trg_workspace_id}\" , capture_output = True, silently_continue=True)\n",
    "trg_workspace_name = json.loads(res)[\"text\"][\"displayName\"]\n",
    "\n",
    "print(f\"Current workspace: {trg_workspace_name}\")\n",
    "print(f\"Current workspace ID: {trg_workspace_id}\")"
   ]
  },
  {
   "cell_type": "code",
   "execution_count": 20,
   "id": "596bce2a-3eb4-401f-955a-fbb9987eb831",
   "metadata": {
    "microsoft": {
     "language": "python",
     "language_group": "jupyter_python"
    }
   },
   "outputs": [
    {
     "data": {
      "application/vnd.jupyter.statement-meta+json": {
       "execution_finish_time": "2025-09-05T14:34:26.313992Z",
       "execution_start_time": "2025-09-05T14:34:25.942955Z",
       "normalized_state": "finished",
       "parent_msg_id": "6ee4e68f-e729-48b7-ba7c-b3fb927493a7",
       "queued_time": "2025-09-05T14:34:12.3741184Z",
       "session_id": "95a4f8ba-502a-400d-91b5-ba0b71be215e",
       "session_start_time": null
      }
     },
     "metadata": {},
     "output_type": "display_data"
    }
   ],
   "source": [
    "def fab_get_id(name):\n",
    "    id = run_fab_command(f\"get /{trg_workspace_name}.Workspace/{name} -q id\" , capture_output = True, silently_continue= True)\n",
    "    return(id)\n",
    "\n",
    "def fab_get_eventhouse_properties(name):\n",
    "    id = run_fab_command(f\"get /{trg_workspace_name}.Workspace/{name} -q id\" , capture_output = True, silently_continue= True)\n",
    "    return(id)\n"
   ]
  },
  {
   "cell_type": "code",
   "execution_count": null,
   "id": "238a8ec2-79c9-4b9b-b8b0-e2617d7b4217",
   "metadata": {
    "microsoft": {
     "language": "python",
     "language_group": "jupyter_python"
    }
   },
   "outputs": [
    {
     "data": {
      "application/vnd.jupyter.statement-meta+json": {
       "execution_finish_time": "2025-09-05T14:34:30.460435Z",
       "execution_start_time": "2025-09-05T14:34:26.315387Z",
       "normalized_state": "finished",
       "parent_msg_id": "9f2b206d-6d6e-436e-a16d-ad4a9549e41f",
       "queued_time": "2025-09-05T14:34:12.4875964Z",
       "session_id": "95a4f8ba-502a-400d-91b5-ba0b71be215e",
       "session_start_time": null
      }
     },
     "metadata": {},
     "output_type": "display_data"
    }
   ],
   "source": [
    "eh_id = fab_get_eventhouse_properties('Monitoring Eventhouse.Eventhouse')"
   ]
  },
  {
   "cell_type": "code",
   "execution_count": null,
   "id": "ca1a4849-a058-47c0-924b-a5d150c42959",
   "metadata": {
    "microsoft": {
     "language": "python",
     "language_group": "jupyter_python"
    }
   },
   "outputs": [
    {
     "data": {
      "application/vnd.jupyter.statement-meta+json": {
       "execution_finish_time": "2025-09-05T14:34:33.4918613Z",
       "execution_start_time": "2025-09-05T14:34:30.4616419Z",
       "normalized_state": "finished",
       "parent_msg_id": "b3d796bf-6887-4bf7-96bf-ccc6712a985f",
       "queued_time": "2025-09-05T14:34:12.5937644Z",
       "session_id": "95a4f8ba-502a-400d-91b5-ba0b71be215e",
       "session_start_time": null
      }
     },
     "metadata": {},
     "output_type": "display_data"
    }
   ],
   "source": [
    "eventhouse_item = run_fab_command(f\"api -X get workspaces/{trg_workspace_id}/eventhouses/{eh_id}\" , capture_output = True, silently_continue=True)"
   ]
  },
  {
   "cell_type": "code",
   "execution_count": null,
   "id": "807eeb60-3fdf-489a-9201-8ee9b990b472",
   "metadata": {
    "microsoft": {
     "language": "python",
     "language_group": "jupyter_python"
    }
   },
   "outputs": [],
   "source": [
    "eventhouse_item_json = json.loads(eventhouse_item)\n",
    "eventhouse_query_id = eventhouse_item_json['text']['properties']['queryServiceUri']\n",
    "print(eventhouse_query_id)"
   ]
  },
  {
   "cell_type": "code",
   "execution_count": 24,
   "id": "a86792b8-5245-4897-8937-b3cccbf90920",
   "metadata": {
    "microsoft": {
     "language": "python",
     "language_group": "jupyter_python"
    }
   },
   "outputs": [
    {
     "data": {
      "application/vnd.jupyter.statement-meta+json": {
       "execution_finish_time": "2025-09-05T14:34:34.1867958Z",
       "execution_start_time": "2025-09-05T14:34:33.8594394Z",
       "normalized_state": "finished",
       "parent_msg_id": "ad38d968-c47b-4ee9-a522-a4a76ea1c928",
       "queued_time": "2025-09-05T14:34:12.8182358Z",
       "session_id": "95a4f8ba-502a-400d-91b5-ba0b71be215e",
       "session_start_time": null
      }
     },
     "metadata": {},
     "output_type": "display_data"
    }
   ],
   "source": [
    "# Define the deployment order for the resources\n",
    "deployment_order = [\n",
    "    {\n",
    "        \"name\": \"Fabric Workspace Monitoring SM.SemanticModel\"\n",
    "    },\n",
    "    {\n",
    "        \"name\": \"Fabric Workspace Monitoring Report.Report\"\n",
    "    },\n",
    "    {\n",
    "        \"name\": \"Fabric Workspace Monitoring Dashboard.KQLDashboard\"\n",
    "    }\n",
    "]"
   ]
  },
  {
   "cell_type": "code",
   "execution_count": 25,
   "id": "a60582b6-15c2-4284-9080-e339d6460b8f",
   "metadata": {
    "microsoft": {
     "language": "python",
     "language_group": "jupyter_python"
    }
   },
   "outputs": [
    {
     "data": {
      "application/vnd.jupyter.statement-meta+json": {
       "execution_finish_time": "2025-09-05T14:34:34.5492808Z",
       "execution_start_time": "2025-09-05T14:34:34.1881064Z",
       "normalized_state": "finished",
       "parent_msg_id": "d0963f6f-822a-4b36-92af-c5c8a3870739",
       "queued_time": "2025-09-05T14:34:12.9266542Z",
       "session_id": "95a4f8ba-502a-400d-91b5-ba0b71be215e",
       "session_start_time": null
      }
     },
     "metadata": {},
     "output_type": "display_data"
    }
   ],
   "source": [
    "def update_report_definition(path, workspace_name, semantic_model_id): \n",
    "    \n",
    "    definition_path = os.path.join(path, \"definition.pbir\")\n",
    "   \n",
    "    with open(definition_path, \"r\", encoding=\"utf8\") as file:\n",
    "        report_definition = json.load(file)\n",
    "\n",
    "    report_definition[\"datasetReference\"][\"byPath\"] = None\n",
    "\n",
    "    value = f'Data Source=\\\"powerbi://api.powerbi.com/v1.0/myorg/{workspace_name}\\\";initial catalog=\\\"Fabric Workspace Monitoring SM\\\";integrated security=ClaimsToken;semanticmodelid={semantic_model_id}'\n",
    "    by_connection_obj = {\n",
    "                \"connectionString\": value\n",
    "            }\n",
    "\n",
    "    report_definition[\"datasetReference\"][\"byConnection\"] = by_connection_obj\n",
    "\n",
    "    with open(definition_path, \"w\") as file:\n",
    "            json.dump(report_definition, file, indent=4)"
   ]
  },
  {
   "cell_type": "code",
   "execution_count": 28,
   "id": "f49b4cd8-ffbf-4d08-987f-f4365f910770",
   "metadata": {
    "microsoft": {
     "language": "python",
     "language_group": "jupyter_python"
    }
   },
   "outputs": [
    {
     "data": {
      "application/vnd.jupyter.statement-meta+json": {
       "execution_finish_time": "2025-09-05T14:37:37.0553597Z",
       "execution_start_time": "2025-09-05T14:37:36.6585008Z",
       "normalized_state": "finished",
       "parent_msg_id": "9fb758fa-505a-4e13-a8a2-6fcd4ee8b2e7",
       "queued_time": "2025-09-05T14:37:36.6575295Z",
       "session_id": "95a4f8ba-502a-400d-91b5-ba0b71be215e",
       "session_start_time": null
      }
     },
     "metadata": {},
     "output_type": "display_data"
    }
   ],
   "source": [
    "def replace_ids_in_folder(folder_path, query_uri):\n",
    "    for root, _, files in os.walk(folder_path):\n",
    "        for file_name in files:\n",
    "            if file_name.endswith('expressions.tmdl'):\n",
    "                file_path = os.path.join(root, file_name)\n",
    "                with open(file_path, 'r', encoding='utf-8') as file:\n",
    "                    content = file.read()\n",
    "                    content = content.replace(\"CUSTOM_MONITORING_QUERY_URI\", query_uri)\n",
    "                with open(file_path, 'w', encoding='utf-8') as file:\n",
    "                    file.write(content)"
   ]
  },
  {
   "cell_type": "code",
   "execution_count": null,
   "id": "ed179478-3886-4172-adca-11ee6c0651f8",
   "metadata": {
    "microsoft": {
     "language": "python",
     "language_group": "jupyter_python"
    }
   },
   "outputs": [],
   "source": [
    "for it in deployment_order:\n",
    "\n",
    "    name = it[\"name\"]\n",
    "    \n",
    "    print(\"\")\n",
    "    print(\"#############################################\")\n",
    "    print(f\"Deploying {name}\")\n",
    "\n",
    "    # Copy and replace IDs in the item\n",
    "    tmp_path = copy_to_tmp(name)\n",
    "\n",
    "    cli_parameter = ''\n",
    "\n",
    "    if \"Report\" in name:\n",
    "        time.sleep(10)\n",
    "        trg_semantic_model_id = fab_get_id('Fabric Workspace Monitoring SM.SemanticModel')\n",
    "        print(trg_semantic_model_id)\n",
    "        time.sleep(10)\n",
    "        print(\"INFO: Rebind Report to current semantic model\")\n",
    "        update_report_definition(tmp_path, trg_workspace_name, trg_semantic_model_id)\n",
    "    if \"SemanticModel\" in name:\n",
    "        print(\"INFO: Replace parameters for semantic model\")\n",
    "        print(eventhouse_query_id)\n",
    "        replace_ids_in_folder(tmp_path, eventhouse_query_id)\n",
    "    \n",
    "    # Deploy items with mapped Ids\n",
    "    run_fab_command(f\"import  /{trg_workspace_name}.Workspace/{name} -i {tmp_path} -f {cli_parameter} \", silently_continue= True)"
   ]
  }
 ],
 "metadata": {
  "a365ComputeOptions": null,
  "dependencies": {
   "lakehouse": {
    "default_lakehouse": null,
    "default_lakehouse_name": "",
    "default_lakehouse_workspace_id": ""
   }
  },
  "kernel_info": {
   "jupyter_kernel_name": "python3.11",
   "name": "jupyter"
  },
  "kernelspec": {
   "display_name": "Jupyter",
   "language": null,
   "name": "jupyter"
  },
  "language_info": {
   "name": "python"
  },
  "microsoft": {
   "language": "python",
   "language_group": "jupyter_python",
   "ms_spell_check": {
    "ms_spell_check_language": "en"
   }
  },
  "nteract": {
   "version": "nteract-front-end@1.0.0"
  },
  "sessionKeepAliveTimeout": 0,
  "spark_compute": {
   "compute_id": "/trident/default",
   "session_options": {
    "conf": {
     "spark.synapse.nbs.session.timeout": "1200000"
    }
   }
  }
 },
 "nbformat": 4,
 "nbformat_minor": 5
}
